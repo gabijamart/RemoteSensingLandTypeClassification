{
 "cells": [
  {
   "cell_type": "code",
   "execution_count": 1,
   "metadata": {},
   "outputs": [],
   "source": [
    "from PIL import Image, ImageColor\n",
    "import numpy as np\n",
    "import rasterio\n",
    "import os, glob\n",
    "import shutil"
   ]
  },
  {
   "cell_type": "code",
   "execution_count": 2,
   "metadata": {},
   "outputs": [],
   "source": [
    "DATASET_DIR = \"dataset\""
   ]
  },
  {
   "attachments": {},
   "cell_type": "markdown",
   "metadata": {},
   "source": [
    "## Setup utility functions"
   ]
  },
  {
   "cell_type": "code",
   "execution_count": 3,
   "metadata": {},
   "outputs": [],
   "source": [
    "def preprocess_images(images: list[Image.Image]) -> list[np.ndarray]:\n",
    "    # Convert images to numpy arrays\n",
    "    color_arrays = [np.array(image) for image in images]\n",
    "\n",
    "    # Ignore any images that contain missing chunks\n",
    "    for color_array in color_arrays:\n",
    "        if np.isnan(color_array).any() or np.mean(color_array) < 200.0:\n",
    "            return None\n",
    "\n",
    "    # Normalize pixel values to range [1.0, 0.0]\n",
    "    def normalize_color(array):\n",
    "        max = np.max(array)\n",
    "        min = np.min(array)\n",
    "        return (array - min) / (max - min)\n",
    "\n",
    "    return [normalize_color(color_array) for color_array in color_arrays]"
   ]
  },
  {
   "cell_type": "code",
   "execution_count": 4,
   "metadata": {},
   "outputs": [],
   "source": [
    "def process_image(\n",
    "        image_1: Image.Image,\n",
    "        image_2: Image.Image,\n",
    "        image_3: Image.Image\n",
    "        ) -> Image.Image:\n",
    "    color_arrays = preprocess_images([image_1, image_2, image_3])\n",
    "    if color_arrays == None:\n",
    "        return None\n",
    "\n",
    "    colors = [Image.fromarray((color_array * 255.0).astype(np.uint8)) for color_array in color_arrays]\n",
    "\n",
    "    # Combine the three images into a single RGB image\n",
    "    return Image.merge('RGB', colors)"
   ]
  },
  {
   "cell_type": "code",
   "execution_count": 5,
   "metadata": {},
   "outputs": [],
   "source": [
    "def process_ndvi_image(\n",
    "        image_B04: Image.Image,\n",
    "        image_B08: Image.Image\n",
    "        ) -> Image.Image:\n",
    "    color_arrays = preprocess_images([image_B04, image_B08])\n",
    "    if color_arrays == None:\n",
    "        return None\n",
    "\n",
    "    # https://custom-scripts.sentinel-hub.com/sentinel-2/ndvi/\n",
    "    def ndvi_to_color(ndvi: float):\n",
    "        match ndvi:\n",
    "            case _ if ndvi <  -0.5:   return ImageColor.getcolor(\"#0c0c0c\", \"RGB\")\n",
    "            case _ if ndvi <= -0.2:   return ImageColor.getcolor(\"#bfbfbf\", \"RGB\")\n",
    "            case _ if ndvi <= -0.1:   return ImageColor.getcolor(\"#dbdbdb\", \"RGB\")\n",
    "            case _ if ndvi <=  0.0:   return ImageColor.getcolor(\"#eaeaea\", \"RGB\")\n",
    "            case _ if ndvi <=  0.025: return ImageColor.getcolor(\"#fff9cc\", \"RGB\")\n",
    "            case _ if ndvi <=  0.05:  return ImageColor.getcolor(\"#ede8b5\", \"RGB\")\n",
    "            case _ if ndvi <=  0.075: return ImageColor.getcolor(\"#ddd89b\", \"RGB\")\n",
    "            case _ if ndvi <=  0.1:   return ImageColor.getcolor(\"#ccc682\", \"RGB\")\n",
    "            case _ if ndvi <=  0.125: return ImageColor.getcolor(\"#bcb76b\", \"RGB\")\n",
    "            case _ if ndvi <=  0.15:  return ImageColor.getcolor(\"#afc160\", \"RGB\")\n",
    "            case _ if ndvi <=  0.175: return ImageColor.getcolor(\"#a3cc59\", \"RGB\")\n",
    "            case _ if ndvi <=  0.2:   return ImageColor.getcolor(\"#91bf51\", \"RGB\")\n",
    "            case _ if ndvi <=  0.25:  return ImageColor.getcolor(\"#7fb247\", \"RGB\")\n",
    "            case _ if ndvi <=  0.3:   return ImageColor.getcolor(\"#70a33f\", \"RGB\")\n",
    "            case _ if ndvi <=  0.35:  return ImageColor.getcolor(\"#609635\", \"RGB\")\n",
    "            case _ if ndvi <=  0.4:   return ImageColor.getcolor(\"#4f892d\", \"RGB\")\n",
    "            case _ if ndvi <=  0.45:  return ImageColor.getcolor(\"#3f7c23\", \"RGB\")\n",
    "            case _ if ndvi <=  0.5:   return ImageColor.getcolor(\"#306d1c\", \"RGB\")\n",
    "            case _ if ndvi <=  0.55:  return ImageColor.getcolor(\"#216011\", \"RGB\")\n",
    "            case _ if ndvi <=  0.6:   return ImageColor.getcolor(\"#0f540a\", \"RGB\")\n",
    "            case _ if ndvi <=  1.0:   return ImageColor.getcolor(\"#004400\", \"RGB\")\n",
    "            case _: raise\n",
    "    \n",
    "    B04 = color_arrays[0]\n",
    "    B08 = color_arrays[1]\n",
    "    ndvi = (B08 - B04) / (B08 + B04)\n",
    "\n",
    "    # When both B04 and B08 are zero, we get division by 0 and NaNs, fix that\n",
    "    ndvi = np.nan_to_num(ndvi, nan=-1.0)\n",
    "    \n",
    "    color_arrays = np.vectorize(ndvi_to_color)(ndvi)\n",
    "    colors = [Image.fromarray(color_array.astype(np.uint8)) for color_array in color_arrays]\n",
    "\n",
    "    return Image.merge('RGB', colors)"
   ]
  },
  {
   "cell_type": "code",
   "execution_count": 6,
   "metadata": {},
   "outputs": [],
   "source": [
    "def convert_geotiff_to_tiff(path: str) -> Image.Image:\n",
    "    image_classification = rasterio.open(path)\n",
    "    # Layer 1 is for labels, layer 2 are the probabilities\n",
    "    image_classification_array = image_classification.read(1)\n",
    "\n",
    "    image_classification.close()\n",
    "\n",
    "    return Image.fromarray(image_classification_array)"
   ]
  },
  {
   "cell_type": "code",
   "execution_count": 7,
   "metadata": {},
   "outputs": [],
   "source": [
    "def generate_mask_visualization(mask: Image.Image) -> Image.Image:\n",
    "    mask_array = np.array(mask)\n",
    "\n",
    "    class_colors = [\n",
    "        ImageColor.getcolor(\"#000000\", \"RGB\"), # Unknown/Clouds\n",
    "        ImageColor.getcolor(\"#0000ff\", \"RGB\"), # Water (Permanent)\n",
    "        ImageColor.getcolor(\"#888888\", \"RGB\"), # Artificial Bare Ground\n",
    "        ImageColor.getcolor(\"#d1a46d\", \"RGB\"), # Natural Bare Ground\n",
    "        ImageColor.getcolor(\"#f5f5ff\", \"RGB\"), # Snow/Ice (Permanent)\n",
    "        ImageColor.getcolor(\"#d64c2b\", \"RGB\"), # Woody\n",
    "        ImageColor.getcolor(\"#186818\", \"RGB\"), # Non-Woody Cultivated\n",
    "        ImageColor.getcolor(\"#00ff00\", \"RGB\"), # Non-Woody (Semi) Natural\n",
    "    ]\n",
    "\n",
    "    image_out = Image.new(\"RGB\", (255, 255), (0, 0, 0))\n",
    "    pixels = image_out.load()\n",
    "\n",
    "    for y in range(255):\n",
    "        for x in range(255):\n",
    "            class_index = mask_array[y, x]\n",
    "            pixels[x, y] = class_colors[class_index]\n",
    "    \n",
    "    return image_out"
   ]
  },
  {
   "cell_type": "code",
   "execution_count": 8,
   "metadata": {},
   "outputs": [],
   "source": [
    "def get_cloud_coverage(image_coverage) -> float:\n",
    "    coverage_array = np.array(image_coverage)\n",
    "    return np.mean(coverage_array)"
   ]
  },
  {
   "attachments": {},
   "cell_type": "markdown",
   "metadata": {},
   "source": [
    "## Preprocess dataset"
   ]
  },
  {
   "cell_type": "code",
   "execution_count": 9,
   "metadata": {},
   "outputs": [
    {
     "name": "stderr",
     "output_type": "stream",
     "text": [
      "C:\\Users\\Uxeron\\AppData\\Local\\Temp\\ipykernel_33896\\65227604.py:37: RuntimeWarning: invalid value encountered in divide\n",
      "  ndvi = (B08 - B04) / (B08 + B04)\n"
     ]
    }
   ],
   "source": [
    "for tile in glob.glob(\"*\", root_dir = DATASET_DIR):\n",
    "    tile_path = os.path.join(DATASET_DIR, tile)\n",
    "    for chip in glob.glob(\"*\", root_dir = tile_path):\n",
    "        chip_path = os.path.join(tile_path, chip)\n",
    "        S2_path = os.path.join(chip_path, \"S2\")\n",
    "\n",
    "        tc_path = os.path.join(chip_path, \"TrueColor\")\n",
    "        fc_path = os.path.join(chip_path, \"FalseColor\")\n",
    "        ndvi_path = os.path.join(chip_path, \"NDVI\")\n",
    "        swir_path =  os.path.join(chip_path, \"SWIR\")\n",
    "\n",
    "        if not os.path.exists(tc_path):\n",
    "            os.mkdir(tc_path)\n",
    "        if not os.path.exists(fc_path):\n",
    "            os.mkdir(fc_path)\n",
    "        if not os.path.exists(ndvi_path):\n",
    "            os.mkdir(ndvi_path)\n",
    "        if not os.path.exists(swir_path):\n",
    "            os.mkdir(swir_path)\n",
    "\n",
    "        class_mask = convert_geotiff_to_tiff(os.path.join(chip_path, f\"{tile}_{chip}_2018_LC_10m.tif\"))\n",
    "        class_mask.save(os.path.join(chip_path, f\"{tile}_{chip}_2018_MASK.tif\"))\n",
    "\n",
    "        mask_visualization = generate_mask_visualization(class_mask)\n",
    "        mask_visualization.save(os.path.join(chip_path, f\"{tile}_{chip}_2018_MASK_VISUAL.png\"))\n",
    "\n",
    "        for instance in glob.glob(\"*\", root_dir = S2_path):\n",
    "            instance_path = os.path.join(S2_path, instance)\n",
    "\n",
    "            image_coverage = Image.open(os.path.join(instance_path, f\"{instance}_CLD_10m.tif\"),)\n",
    "            cloud_coverage = get_cloud_coverage(image_coverage)\n",
    "            image_coverage.close()\n",
    "\n",
    "            if cloud_coverage > 0.5:\n",
    "                continue\n",
    "\n",
    "            image_B02 = Image.open(os.path.join(instance_path, f\"{instance}_B02_10m.tif\"))\n",
    "            image_B03 = Image.open(os.path.join(instance_path, f\"{instance}_B03_10m.tif\"))\n",
    "            image_B04 = Image.open(os.path.join(instance_path, f\"{instance}_B04_10m.tif\"))\n",
    "            image_B08 = Image.open(os.path.join(instance_path, f\"{instance}_B08_10m.tif\"))\n",
    "            image_B8A = Image.open(os.path.join(instance_path, f\"{instance}_B8A_10m.tif\"))\n",
    "            image_B12 = Image.open(os.path.join(instance_path, f\"{instance}_B12_10m.tif\"))\n",
    "\n",
    "            # True Color\n",
    "            tc_image = process_image(image_B04, image_B03, image_B02)\n",
    "            if tc_image != None:\n",
    "                tc_image.save(os.path.join(tc_path, f\"{instance}_TC.png\"))\n",
    "            \n",
    "            # False Color\n",
    "            fc_image = process_image(image_B08, image_B04, image_B03)\n",
    "            if fc_image != None:\n",
    "                fc_image.save(os.path.join(fc_path, f\"{instance}_FC.png\"))\n",
    "            \n",
    "            # SWIR\n",
    "            swir_image = process_image(image_B12, image_B8A, image_B04)\n",
    "            if swir_image != None:\n",
    "                swir_image.save(os.path.join(swir_path, f\"{instance}_SWIR.png\"))\n",
    "            \n",
    "            # NDVI\n",
    "            ndvi_image = process_ndvi_image(image_B04, image_B08)\n",
    "            if ndvi_image != None:\n",
    "                ndvi_image.save(os.path.join(ndvi_path, f\"{instance}_NDVI.png\"))\n",
    "            \n",
    "            image_B02.close()\n",
    "            image_B03.close()\n",
    "            image_B04.close()\n",
    "            image_B08.close()\n",
    "            image_B8A.close()\n",
    "            image_B12.close()\n"
   ]
  },
  {
   "attachments": {},
   "cell_type": "markdown",
   "metadata": {},
   "source": [
    "## Cleanup remaining files"
   ]
  },
  {
   "cell_type": "code",
   "execution_count": 53,
   "metadata": {},
   "outputs": [],
   "source": [
    "for dirpath, dirnames, filenames in os.walk(DATASET_DIR, topdown=False):\n",
    "    for filename in filenames:\n",
    "        if filename.endswith(\"2018_LC_10m.tif\"):\n",
    "            os.remove(os.path.join(dirpath, filename))\n",
    "        if filename.endswith(\"labeling_dates.csv\"):\n",
    "            os.remove(os.path.join(dirpath, filename))\n",
    "\n",
    "    for dirname in dirnames:\n",
    "        if dirname in [\"L8\", \"S1\", \"S2\"]:\n",
    "            dir_to_delete = os.path.join(dirpath, dirname)\n",
    "            shutil.rmtree(dir_to_delete)\n"
   ]
  }
 ],
 "metadata": {
  "kernelspec": {
   "display_name": "base",
   "language": "python",
   "name": "python3"
  },
  "language_info": {
   "codemirror_mode": {
    "name": "ipython",
    "version": 3
   },
   "file_extension": ".py",
   "mimetype": "text/x-python",
   "name": "python",
   "nbconvert_exporter": "python",
   "pygments_lexer": "ipython3",
   "version": "3.11.7"
  },
  "orig_nbformat": 4
 },
 "nbformat": 4,
 "nbformat_minor": 2
}
